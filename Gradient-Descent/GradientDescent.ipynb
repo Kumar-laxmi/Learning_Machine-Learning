{
 "cells": [
  {
   "cell_type": "markdown",
   "id": "9f69fd29",
   "metadata": {},
   "source": [
    "# Machine Learning Algorithm - Gradient Descent Algorithm"
   ]
  },
  {
   "cell_type": "markdown",
   "id": "5ca55ec0",
   "metadata": {},
   "source": [
    "###### Import all relevant libraries"
   ]
  },
  {
   "cell_type": "code",
   "execution_count": 1,
   "id": "63d835fb",
   "metadata": {},
   "outputs": [],
   "source": [
    "import numpy as np\n",
    "import pandas as pd\n",
    "import random\n",
    "import math\n",
    "import matplotlib.pyplot as plt\n",
    "import seaborn as sns"
   ]
  },
  {
   "cell_type": "markdown",
   "id": "0f759078",
   "metadata": {},
   "source": [
    "###### Load the csv file to data-frame"
   ]
  },
  {
   "cell_type": "code",
   "execution_count": 2,
   "id": "7841eaff",
   "metadata": {},
   "outputs": [],
   "source": [
    "sales_df = pd.read_csv('./DataSet/Advertising.csv')"
   ]
  },
  {
   "cell_type": "markdown",
   "id": "013230ce",
   "metadata": {},
   "source": [
    "###### Checking if data-frame loaded properly"
   ]
  },
  {
   "cell_type": "code",
   "execution_count": 3,
   "id": "17c65c2d",
   "metadata": {},
   "outputs": [
    {
     "data": {
      "text/html": [
       "<div>\n",
       "<style scoped>\n",
       "    .dataframe tbody tr th:only-of-type {\n",
       "        vertical-align: middle;\n",
       "    }\n",
       "\n",
       "    .dataframe tbody tr th {\n",
       "        vertical-align: top;\n",
       "    }\n",
       "\n",
       "    .dataframe thead th {\n",
       "        text-align: right;\n",
       "    }\n",
       "</style>\n",
       "<table border=\"1\" class=\"dataframe\">\n",
       "  <thead>\n",
       "    <tr style=\"text-align: right;\">\n",
       "      <th></th>\n",
       "      <th>Unnamed: 0</th>\n",
       "      <th>TV</th>\n",
       "      <th>Radio</th>\n",
       "      <th>Newspaper</th>\n",
       "      <th>Sales</th>\n",
       "    </tr>\n",
       "  </thead>\n",
       "  <tbody>\n",
       "    <tr>\n",
       "      <th>0</th>\n",
       "      <td>1</td>\n",
       "      <td>230.1</td>\n",
       "      <td>37.8</td>\n",
       "      <td>69.2</td>\n",
       "      <td>22.1</td>\n",
       "    </tr>\n",
       "    <tr>\n",
       "      <th>1</th>\n",
       "      <td>2</td>\n",
       "      <td>44.5</td>\n",
       "      <td>39.3</td>\n",
       "      <td>45.1</td>\n",
       "      <td>10.4</td>\n",
       "    </tr>\n",
       "    <tr>\n",
       "      <th>2</th>\n",
       "      <td>3</td>\n",
       "      <td>17.2</td>\n",
       "      <td>45.9</td>\n",
       "      <td>69.3</td>\n",
       "      <td>9.3</td>\n",
       "    </tr>\n",
       "    <tr>\n",
       "      <th>3</th>\n",
       "      <td>4</td>\n",
       "      <td>151.5</td>\n",
       "      <td>41.3</td>\n",
       "      <td>58.5</td>\n",
       "      <td>18.5</td>\n",
       "    </tr>\n",
       "    <tr>\n",
       "      <th>4</th>\n",
       "      <td>5</td>\n",
       "      <td>180.8</td>\n",
       "      <td>10.8</td>\n",
       "      <td>58.4</td>\n",
       "      <td>12.9</td>\n",
       "    </tr>\n",
       "  </tbody>\n",
       "</table>\n",
       "</div>"
      ],
      "text/plain": [
       "   Unnamed: 0     TV  Radio  Newspaper  Sales\n",
       "0           1  230.1   37.8       69.2   22.1\n",
       "1           2   44.5   39.3       45.1   10.4\n",
       "2           3   17.2   45.9       69.3    9.3\n",
       "3           4  151.5   41.3       58.5   18.5\n",
       "4           5  180.8   10.8       58.4   12.9"
      ]
     },
     "execution_count": 3,
     "metadata": {},
     "output_type": "execute_result"
    }
   ],
   "source": [
    "sales_df.head()"
   ]
  },
  {
   "cell_type": "code",
   "execution_count": 4,
   "id": "2c612716",
   "metadata": {},
   "outputs": [
    {
     "data": {
      "text/html": [
       "<div>\n",
       "<style scoped>\n",
       "    .dataframe tbody tr th:only-of-type {\n",
       "        vertical-align: middle;\n",
       "    }\n",
       "\n",
       "    .dataframe tbody tr th {\n",
       "        vertical-align: top;\n",
       "    }\n",
       "\n",
       "    .dataframe thead th {\n",
       "        text-align: right;\n",
       "    }\n",
       "</style>\n",
       "<table border=\"1\" class=\"dataframe\">\n",
       "  <thead>\n",
       "    <tr style=\"text-align: right;\">\n",
       "      <th></th>\n",
       "      <th>Unnamed: 0</th>\n",
       "      <th>TV</th>\n",
       "      <th>Radio</th>\n",
       "      <th>Newspaper</th>\n",
       "      <th>Sales</th>\n",
       "    </tr>\n",
       "  </thead>\n",
       "  <tbody>\n",
       "    <tr>\n",
       "      <th>195</th>\n",
       "      <td>196</td>\n",
       "      <td>38.2</td>\n",
       "      <td>3.7</td>\n",
       "      <td>13.8</td>\n",
       "      <td>7.6</td>\n",
       "    </tr>\n",
       "    <tr>\n",
       "      <th>196</th>\n",
       "      <td>197</td>\n",
       "      <td>94.2</td>\n",
       "      <td>4.9</td>\n",
       "      <td>8.1</td>\n",
       "      <td>9.7</td>\n",
       "    </tr>\n",
       "    <tr>\n",
       "      <th>197</th>\n",
       "      <td>198</td>\n",
       "      <td>177.0</td>\n",
       "      <td>9.3</td>\n",
       "      <td>6.4</td>\n",
       "      <td>12.8</td>\n",
       "    </tr>\n",
       "    <tr>\n",
       "      <th>198</th>\n",
       "      <td>199</td>\n",
       "      <td>283.6</td>\n",
       "      <td>42.0</td>\n",
       "      <td>66.2</td>\n",
       "      <td>25.5</td>\n",
       "    </tr>\n",
       "    <tr>\n",
       "      <th>199</th>\n",
       "      <td>200</td>\n",
       "      <td>232.1</td>\n",
       "      <td>8.6</td>\n",
       "      <td>8.7</td>\n",
       "      <td>13.4</td>\n",
       "    </tr>\n",
       "  </tbody>\n",
       "</table>\n",
       "</div>"
      ],
      "text/plain": [
       "     Unnamed: 0     TV  Radio  Newspaper  Sales\n",
       "195         196   38.2    3.7       13.8    7.6\n",
       "196         197   94.2    4.9        8.1    9.7\n",
       "197         198  177.0    9.3        6.4   12.8\n",
       "198         199  283.6   42.0       66.2   25.5\n",
       "199         200  232.1    8.6        8.7   13.4"
      ]
     },
     "execution_count": 4,
     "metadata": {},
     "output_type": "execute_result"
    }
   ],
   "source": [
    "sales_df.tail()"
   ]
  },
  {
   "cell_type": "markdown",
   "id": "2352259a",
   "metadata": {},
   "source": [
    "###### Defining X and Y "
   ]
  },
  {
   "cell_type": "code",
   "execution_count": 5,
   "id": "56c685f6",
   "metadata": {},
   "outputs": [],
   "source": [
    "X = sales_df[['TV','Radio','Newspaper']]\n",
    "Y = sales_df['Sales']"
   ]
  },
  {
   "cell_type": "markdown",
   "id": "5a917921",
   "metadata": {},
   "source": [
    "###### Standardise the data"
   ]
  },
  {
   "cell_type": "code",
   "execution_count": 6,
   "id": "117c8b14",
   "metadata": {},
   "outputs": [],
   "source": [
    "Y = np.array((Y-Y.mean())/Y.std())\n",
    "X = X.apply(lambda rec:(rec-rec.mean())/rec.std(),axis=0) #axis=0 -> It is applied to all the rows"
   ]
  },
  {
   "cell_type": "code",
   "execution_count": 7,
   "id": "aab6e085",
   "metadata": {},
   "outputs": [
    {
     "data": {
      "text/html": [
       "<div>\n",
       "<style scoped>\n",
       "    .dataframe tbody tr th:only-of-type {\n",
       "        vertical-align: middle;\n",
       "    }\n",
       "\n",
       "    .dataframe tbody tr th {\n",
       "        vertical-align: top;\n",
       "    }\n",
       "\n",
       "    .dataframe thead th {\n",
       "        text-align: right;\n",
       "    }\n",
       "</style>\n",
       "<table border=\"1\" class=\"dataframe\">\n",
       "  <thead>\n",
       "    <tr style=\"text-align: right;\">\n",
       "      <th></th>\n",
       "      <th>TV</th>\n",
       "      <th>Radio</th>\n",
       "      <th>Newspaper</th>\n",
       "    </tr>\n",
       "  </thead>\n",
       "  <tbody>\n",
       "    <tr>\n",
       "      <th>0</th>\n",
       "      <td>0.967425</td>\n",
       "      <td>0.979066</td>\n",
       "      <td>1.774493</td>\n",
       "    </tr>\n",
       "    <tr>\n",
       "      <th>1</th>\n",
       "      <td>-1.194379</td>\n",
       "      <td>1.080097</td>\n",
       "      <td>0.667903</td>\n",
       "    </tr>\n",
       "    <tr>\n",
       "      <th>2</th>\n",
       "      <td>-1.512360</td>\n",
       "      <td>1.524637</td>\n",
       "      <td>1.779084</td>\n",
       "    </tr>\n",
       "    <tr>\n",
       "      <th>3</th>\n",
       "      <td>0.051919</td>\n",
       "      <td>1.214806</td>\n",
       "      <td>1.283185</td>\n",
       "    </tr>\n",
       "    <tr>\n",
       "      <th>4</th>\n",
       "      <td>0.393196</td>\n",
       "      <td>-0.839507</td>\n",
       "      <td>1.278593</td>\n",
       "    </tr>\n",
       "    <tr>\n",
       "      <th>...</th>\n",
       "      <td>...</td>\n",
       "      <td>...</td>\n",
       "      <td>...</td>\n",
       "    </tr>\n",
       "    <tr>\n",
       "      <th>195</th>\n",
       "      <td>-1.267759</td>\n",
       "      <td>-1.317724</td>\n",
       "      <td>-0.769287</td>\n",
       "    </tr>\n",
       "    <tr>\n",
       "      <th>196</th>\n",
       "      <td>-0.615491</td>\n",
       "      <td>-1.236899</td>\n",
       "      <td>-1.031011</td>\n",
       "    </tr>\n",
       "    <tr>\n",
       "      <th>197</th>\n",
       "      <td>0.348934</td>\n",
       "      <td>-0.940539</td>\n",
       "      <td>-1.109069</td>\n",
       "    </tr>\n",
       "    <tr>\n",
       "      <th>198</th>\n",
       "      <td>1.590574</td>\n",
       "      <td>1.261955</td>\n",
       "      <td>1.636743</td>\n",
       "    </tr>\n",
       "    <tr>\n",
       "      <th>199</th>\n",
       "      <td>0.990720</td>\n",
       "      <td>-0.987687</td>\n",
       "      <td>-1.003461</td>\n",
       "    </tr>\n",
       "  </tbody>\n",
       "</table>\n",
       "<p>200 rows × 3 columns</p>\n",
       "</div>"
      ],
      "text/plain": [
       "           TV     Radio  Newspaper\n",
       "0    0.967425  0.979066   1.774493\n",
       "1   -1.194379  1.080097   0.667903\n",
       "2   -1.512360  1.524637   1.779084\n",
       "3    0.051919  1.214806   1.283185\n",
       "4    0.393196 -0.839507   1.278593\n",
       "..        ...       ...        ...\n",
       "195 -1.267759 -1.317724  -0.769287\n",
       "196 -0.615491 -1.236899  -1.031011\n",
       "197  0.348934 -0.940539  -1.109069\n",
       "198  1.590574  1.261955   1.636743\n",
       "199  0.990720 -0.987687  -1.003461\n",
       "\n",
       "[200 rows x 3 columns]"
      ]
     },
     "execution_count": 7,
     "metadata": {},
     "output_type": "execute_result"
    }
   ],
   "source": [
    "X"
   ]
  },
  {
   "cell_type": "code",
   "execution_count": 8,
   "id": "18949656",
   "metadata": {},
   "outputs": [
    {
     "data": {
      "text/plain": [
       "array([ 1.54816813, -0.69430382, -0.90513451,  0.85817677, -0.21514314,\n",
       "       -1.30762948, -0.42597384, -0.15764386, -1.76762372, -0.65597096,\n",
       "       -1.0392995 ,  0.64734607, -0.92430094, -0.8284688 ,  0.9540089 ,\n",
       "        1.60566742, -0.29180885,  1.98899595, -0.52180597,  0.11068612,\n",
       "        0.76234463, -0.29180885, -1.61429231,  0.28318396, -0.8284688 ,\n",
       "       -0.38764098,  0.18735182,  0.35984967,  0.93484247, -0.67513739,\n",
       "        1.41400315, -0.40680741, -0.84763523,  0.64734607, -0.86680166,\n",
       "       -0.23430957,  2.18066022,  0.12985254, -0.7518031 ,  1.43316957,\n",
       "        0.49401465,  0.58984679,  1.27983816, -0.21514314, -1.05846593,\n",
       "        0.1681854 , -0.65597096,  1.75899883,  0.14901897, -0.8284688 ,\n",
       "       -0.50263955, -0.63680453,  1.64400027,  1.37567029,  1.18400602,\n",
       "        1.85483097, -1.63345873, -0.15764386,  1.87399739,  0.83901034,\n",
       "       -1.13513163,  1.9506631 ,  0.32151681, -0.00431245,  0.76234463,\n",
       "       -0.90513451, -0.86680166, -0.11931101,  0.93484247,  1.58650099,\n",
       "        0.81984391, -0.31097528, -1.00096665, -0.57930525,  0.57068036,\n",
       "       -1.02013307, -1.36512876,  0.03402041, -1.67179159, -0.57930525,\n",
       "       -0.42597384, -0.3301417 , -0.52180597, -0.08097815,  1.47150243,\n",
       "        0.22568468, -0.38764098,  0.37901609, -0.21514314,  0.51318108,\n",
       "       -0.5409724 , -1.28846305,  1.03067461,  1.56733456, -0.48347312,\n",
       "        0.55151393, -0.44514027,  0.28318396,  2.18066022,  0.60901322,\n",
       "       -0.44514027,  1.87399739,  0.14901897,  0.12985254,  1.27983816,\n",
       "        0.99234175, -1.30762948, -1.02013307, -1.67179159,  1.10734032,\n",
       "       -0.11931101,  1.49066885,  0.01485398,  0.35984967,  0.11068612,\n",
       "       -0.27264242, -0.34930813, -0.88596808,  0.35984967, -1.42262804,\n",
       "        0.28318396, -1.34596233, -0.46430669,  0.22568468,  1.08817389,\n",
       "       -0.65597096, -1.42262804, -1.00096665,  2.04649523, -0.8284688 ,\n",
       "       -2.38094938, -0.253476  , -1.59512588,  1.06900746, -0.61763811,\n",
       "       -0.46430669, -0.86680166,  1.29900458, -0.84763523,  1.27983816,\n",
       "       -0.59847168,  0.99234175,  1.1648396 , -0.69430382, -0.50263955,\n",
       "       -0.71347024, -0.15764386,  2.18066022, -0.59847168, -0.7518031 ,\n",
       "        0.39818252, -0.46430669,  0.49401465,  0.9540089 ,  0.30235038,\n",
       "       -2.07428655,  0.2448511 , -0.7518031 , -1.28846305, -0.21514314,\n",
       "        0.07235326, -0.13847743,  0.1681854 ,  0.76234463, -0.40680741,\n",
       "       -0.40680741, -1.15429806, -0.34930813,  0.58984679,  0.18735182,\n",
       "       -1.07763235,  0.09151969, -1.23096377, -0.44514027, -0.48347312,\n",
       "        2.48732305,  1.18400602, -0.44514027, -0.42597384, -0.27264242,\n",
       "       -0.67513739, -0.34930813, -1.02013307,  2.33399164,  0.68567892,\n",
       "        1.64400027, -0.71347024,  0.62817964,  0.35984967, -1.40346161,\n",
       "       -0.61763811, -0.79013595, -1.55679303,  1.06900746,  0.62817964,\n",
       "       -1.23096377, -0.8284688 , -0.23430957,  2.19982665, -0.11931101])"
      ]
     },
     "execution_count": 8,
     "metadata": {},
     "output_type": "execute_result"
    }
   ],
   "source": [
    "Y"
   ]
  },
  {
   "cell_type": "markdown",
   "id": "1ca7692f",
   "metadata": {},
   "source": [
    "###### Initialisation of beta0,beta1,beta2 & beta3"
   ]
  },
  {
   "cell_type": "code",
   "execution_count": 9,
   "id": "d4bb7f99",
   "metadata": {},
   "outputs": [],
   "source": [
    "def initialize(dim):\n",
    "    np.random.seed(seed=42)\n",
    "    random.seed(42)\n",
    "    b = random.random()   #b -> beta0 (bias)\n",
    "    w = np.random.rand(dim)     #weights\n",
    "    return b,w   #return bias & weight"
   ]
  },
  {
   "cell_type": "code",
   "execution_count": 10,
   "id": "1ecd9f21",
   "metadata": {},
   "outputs": [
    {
     "name": "stdout",
     "output_type": "stream",
     "text": [
      "Bias =  0.6394267984578837 \n",
      "Weights =  [0.37454012 0.95071431 0.73199394]\n"
     ]
    }
   ],
   "source": [
    "b,w = initialize(3)\n",
    "print('Bias = ',b,'\\nWeights = ',w)"
   ]
  },
  {
   "cell_type": "markdown",
   "id": "6758053e",
   "metadata": {},
   "source": [
    "###### Now we predict the value of Y"
   ]
  },
  {
   "cell_type": "code",
   "execution_count": 11,
   "id": "88ba91d5",
   "metadata": {},
   "outputs": [],
   "source": [
    "def predict_Y(b,w,x):\n",
    "    return b + np.matmul(x,w)"
   ]
  },
  {
   "cell_type": "code",
   "execution_count": 12,
   "id": "78858338",
   "metadata": {},
   "outputs": [
    {
     "data": {
      "text/plain": [
       "0     3.231496\n",
       "1     1.707849\n",
       "2     2.824761\n",
       "3     2.753090\n",
       "4     0.924486\n",
       "5     3.171365\n",
       "6     0.622344\n",
       "7    -0.349354\n",
       "8    -2.313095\n",
       "9    -0.768030\n",
       "10   -1.045554\n",
       "11    0.089216\n",
       "12    2.047700\n",
       "13   -1.364689\n",
       "14    2.024532\n",
       "15    3.166208\n",
       "16    3.952376\n",
       "17    3.120172\n",
       "18   -0.289020\n",
       "19    0.296300\n",
       "dtype: float64"
      ]
     },
     "execution_count": 12,
     "metadata": {},
     "output_type": "execute_result"
    }
   ],
   "source": [
    "# First Initialise and then predict\n",
    "b,w = initialize(3)\n",
    "y_hat = predict_Y(b,w,X)\n",
    "y_hat[0:20]"
   ]
  },
  {
   "cell_type": "markdown",
   "id": "d306fc9e",
   "metadata": {},
   "source": [
    "###### Calculating Mean-Square Error"
   ]
  },
  {
   "cell_type": "code",
   "execution_count": 13,
   "id": "62dfb384",
   "metadata": {},
   "outputs": [],
   "source": [
    "def get_cost(Y,Y_hat):\n",
    "    Y_resid = Y - Y_hat    #Calculating Residual value of Y\n",
    "    return np.sum(np.matmul(Y_resid.T,Y_resid))/len(Y_resid)  # .T is transpose"
   ]
  },
  {
   "cell_type": "code",
   "execution_count": 14,
   "id": "e0fac24e",
   "metadata": {},
   "outputs": [
    {
     "data": {
      "text/plain": [
       "1.5303100198505895"
      ]
     },
     "execution_count": 14,
     "metadata": {},
     "output_type": "execute_result"
    }
   ],
   "source": [
    "b,w = initialize(3)\n",
    "y_hat = predict_Y(b,w,X)\n",
    "get_cost(Y,y_hat)"
   ]
  },
  {
   "cell_type": "code",
   "execution_count": 15,
   "id": "8c8c1ca5",
   "metadata": {},
   "outputs": [],
   "source": [
    "# Update beta0 & beta1\n",
    "def update_beta(x, y, y_hat, b_0, w_0, learning_rate):\n",
    "    db = (np.sum(y_hat-y)*2)/len(y)\n",
    "    dw = (np.dot(y_hat-y,x)*2)/len(y)\n",
    "    b_1 = b_0 - learning_rate*db\n",
    "    w_1 = w_0 - learning_rate*dw\n",
    "    return b_1, w_1"
   ]
  },
  {
   "cell_type": "code",
   "execution_count": 16,
   "id": "e0a32a9f",
   "metadata": {},
   "outputs": [
    {
     "name": "stdout",
     "output_type": "stream",
     "text": [
      "After Initialization \n",
      " Bias 0.6394267984578837 \n",
      "Weight:  [0.37454012 0.95071431 0.73199394]\n",
      "\n",
      "After First Update \n",
      " Bias 0.6266382624887261 \n",
      "Weights:  [0.38079093 0.9376953  0.71484883]\n"
     ]
    }
   ],
   "source": [
    "b,w = initialize(3)\n",
    "print('After Initialization \\n Bias',b,'\\nWeight: ',w)\n",
    "y_hat = predict_Y(b,w,X)\n",
    "b,w = update_beta(X, Y, y_hat, b, w, 0.01)\n",
    "print('\\nAfter First Update \\n Bias',b,'\\nWeights: ',w)\n",
    "#get_cost(Y,y_hat)"
   ]
  },
  {
   "cell_type": "markdown",
   "id": "167845ef",
   "metadata": {},
   "source": [
    "###### Function to execute Gradient Descent Algorithm"
   ]
  },
  {
   "cell_type": "code",
   "execution_count": 17,
   "id": "b4514b13",
   "metadata": {},
   "outputs": [],
   "source": [
    "def run_gradient_descent(X,Y,alpha=0.01,num_iterations=100):     # alpha is Learning rate\n",
    "    b,w = initialize(X.shape[1])   \n",
    "    # we pass dimension of X as argument\n",
    "    # X.shape[0] -> Rows of X\n",
    "    # X.shape[1] -> Columns of X\n",
    "    \n",
    "    iter_num = 0\n",
    "    gd_iterrations_df = pd.DataFrame(columns=['iterations','cost'])\n",
    "    result_idx = 0\n",
    "    for each_iter in range(num_iterations):\n",
    "        y_hat = predict_Y(b,w,X)\n",
    "        this_cost = get_cost(Y,y_hat)\n",
    "        prev_b = b\n",
    "        prev_w = w\n",
    "        b,w = update_beta(X, Y, y_hat, prev_b, prev_w, alpha)\n",
    "        \n",
    "        if(iter_num%10==0):    # after every 10 iteration it stores the information\n",
    "            gd_iterrations_df.loc[result_idx] = [iter_num, this_cost]\n",
    "            result_idx = result_idx + 1\n",
    "        iter_num = iter_num + 1\n",
    "    print(\"Final Estimate of b is {} \\n w is {} \".format(b,w))\n",
    "    return gd_iterrations_df, b, w"
   ]
  },
  {
   "cell_type": "code",
   "execution_count": 18,
   "id": "3d786037",
   "metadata": {},
   "outputs": [
    {
     "name": "stdout",
     "output_type": "stream",
     "text": [
      "Final Estimate of b is 0.42844895817391493 \n",
      " w is [0.48270238 0.75265969 0.46109174] \n"
     ]
    }
   ],
   "source": [
    "gid, b , w = run_gradient_descent(X, Y, alpha=0.001, num_iterations=200)"
   ]
  },
  {
   "cell_type": "markdown",
   "id": "23d97192",
   "metadata": {},
   "source": [
    "###### Print first 20 values to see the result"
   ]
  },
  {
   "cell_type": "code",
   "execution_count": 19,
   "id": "25d2c10a",
   "metadata": {},
   "outputs": [
    {
     "data": {
      "text/html": [
       "<div>\n",
       "<style scoped>\n",
       "    .dataframe tbody tr th:only-of-type {\n",
       "        vertical-align: middle;\n",
       "    }\n",
       "\n",
       "    .dataframe tbody tr th {\n",
       "        vertical-align: top;\n",
       "    }\n",
       "\n",
       "    .dataframe thead th {\n",
       "        text-align: right;\n",
       "    }\n",
       "</style>\n",
       "<table border=\"1\" class=\"dataframe\">\n",
       "  <thead>\n",
       "    <tr style=\"text-align: right;\">\n",
       "      <th></th>\n",
       "      <th>iterations</th>\n",
       "      <th>cost</th>\n",
       "    </tr>\n",
       "  </thead>\n",
       "  <tbody>\n",
       "    <tr>\n",
       "      <th>0</th>\n",
       "      <td>0.0</td>\n",
       "      <td>1.530310</td>\n",
       "    </tr>\n",
       "    <tr>\n",
       "      <th>1</th>\n",
       "      <td>10.0</td>\n",
       "      <td>1.465201</td>\n",
       "    </tr>\n",
       "    <tr>\n",
       "      <th>2</th>\n",
       "      <td>20.0</td>\n",
       "      <td>1.403145</td>\n",
       "    </tr>\n",
       "    <tr>\n",
       "      <th>3</th>\n",
       "      <td>30.0</td>\n",
       "      <td>1.343996</td>\n",
       "    </tr>\n",
       "    <tr>\n",
       "      <th>4</th>\n",
       "      <td>40.0</td>\n",
       "      <td>1.287615</td>\n",
       "    </tr>\n",
       "    <tr>\n",
       "      <th>5</th>\n",
       "      <td>50.0</td>\n",
       "      <td>1.233868</td>\n",
       "    </tr>\n",
       "    <tr>\n",
       "      <th>6</th>\n",
       "      <td>60.0</td>\n",
       "      <td>1.182630</td>\n",
       "    </tr>\n",
       "    <tr>\n",
       "      <th>7</th>\n",
       "      <td>70.0</td>\n",
       "      <td>1.133780</td>\n",
       "    </tr>\n",
       "    <tr>\n",
       "      <th>8</th>\n",
       "      <td>80.0</td>\n",
       "      <td>1.087203</td>\n",
       "    </tr>\n",
       "    <tr>\n",
       "      <th>9</th>\n",
       "      <td>90.0</td>\n",
       "      <td>1.042793</td>\n",
       "    </tr>\n",
       "    <tr>\n",
       "      <th>10</th>\n",
       "      <td>100.0</td>\n",
       "      <td>1.000444</td>\n",
       "    </tr>\n",
       "    <tr>\n",
       "      <th>11</th>\n",
       "      <td>110.0</td>\n",
       "      <td>0.960059</td>\n",
       "    </tr>\n",
       "    <tr>\n",
       "      <th>12</th>\n",
       "      <td>120.0</td>\n",
       "      <td>0.921545</td>\n",
       "    </tr>\n",
       "    <tr>\n",
       "      <th>13</th>\n",
       "      <td>130.0</td>\n",
       "      <td>0.884812</td>\n",
       "    </tr>\n",
       "    <tr>\n",
       "      <th>14</th>\n",
       "      <td>140.0</td>\n",
       "      <td>0.849776</td>\n",
       "    </tr>\n",
       "    <tr>\n",
       "      <th>15</th>\n",
       "      <td>150.0</td>\n",
       "      <td>0.816356</td>\n",
       "    </tr>\n",
       "    <tr>\n",
       "      <th>16</th>\n",
       "      <td>160.0</td>\n",
       "      <td>0.784476</td>\n",
       "    </tr>\n",
       "    <tr>\n",
       "      <th>17</th>\n",
       "      <td>170.0</td>\n",
       "      <td>0.754063</td>\n",
       "    </tr>\n",
       "    <tr>\n",
       "      <th>18</th>\n",
       "      <td>180.0</td>\n",
       "      <td>0.725048</td>\n",
       "    </tr>\n",
       "    <tr>\n",
       "      <th>19</th>\n",
       "      <td>190.0</td>\n",
       "      <td>0.697364</td>\n",
       "    </tr>\n",
       "  </tbody>\n",
       "</table>\n",
       "</div>"
      ],
      "text/plain": [
       "    iterations      cost\n",
       "0          0.0  1.530310\n",
       "1         10.0  1.465201\n",
       "2         20.0  1.403145\n",
       "3         30.0  1.343996\n",
       "4         40.0  1.287615\n",
       "5         50.0  1.233868\n",
       "6         60.0  1.182630\n",
       "7         70.0  1.133780\n",
       "8         80.0  1.087203\n",
       "9         90.0  1.042793\n",
       "10       100.0  1.000444\n",
       "11       110.0  0.960059\n",
       "12       120.0  0.921545\n",
       "13       130.0  0.884812\n",
       "14       140.0  0.849776\n",
       "15       150.0  0.816356\n",
       "16       160.0  0.784476\n",
       "17       170.0  0.754063\n",
       "18       180.0  0.725048\n",
       "19       190.0  0.697364"
      ]
     },
     "execution_count": 19,
     "metadata": {},
     "output_type": "execute_result"
    }
   ],
   "source": [
    "# Print first 10 values\n",
    "gid.head(20)"
   ]
  },
  {
   "cell_type": "markdown",
   "id": "9225fd7c",
   "metadata": {},
   "source": [
    "###### Visualising Algorithm"
   ]
  },
  {
   "cell_type": "code",
   "execution_count": 20,
   "id": "65586ca6",
   "metadata": {},
   "outputs": [],
   "source": [
    "%matplotlib inline"
   ]
  },
  {
   "cell_type": "code",
   "execution_count": 21,
   "id": "8b6945f1",
   "metadata": {},
   "outputs": [
    {
     "data": {
      "image/png": "[encoded data removed]",
      "text/plain": [
       "<Figure size 432x288 with 1 Axes>"
      ]
     },
     "metadata": {
      "needs_background": "light"
     },
     "output_type": "display_data"
    }
   ],
   "source": [
    "plt.plot(gid['iterations'],gid['cost'])\n",
    "plt.xlabel('Number of Iterations')\n",
    "plt.ylabel('Cost of MSE')\n",
    "plt.show()"
   ]
  },
  {
   "cell_type": "markdown",
   "id": "dd78beca",
   "metadata": {},
   "source": [
    "###### Now experimenting with different learning rate & number of iterations"
   ]
  },
  {
   "cell_type": "code",
   "execution_count": 22,
   "id": "9adf11c4",
   "metadata": {},
   "outputs": [
    {
     "name": "stdout",
     "output_type": "stream",
     "text": [
      "Final Estimate of b is 2.774489385785389e-16 \n",
      " w is [ 0.75306591  0.53648155 -0.00433069] \n"
     ]
    }
   ],
   "source": [
    "alpha_df_1, b, w = run_gradient_descent(X, Y, alpha=0.01, num_iterations=2000)"
   ]
  },
  {
   "cell_type": "code",
   "execution_count": 23,
   "id": "883f5174",
   "metadata": {},
   "outputs": [
    {
     "name": "stdout",
     "output_type": "stream",
     "text": [
      "Final Estimate of b is 0.011664695556930518 \n",
      " w is [0.74315125 0.52779959 0.01171703] \n"
     ]
    }
   ],
   "source": [
    "alpha_df_2, b, w = run_gradient_descent(X, Y, alpha=0.001, num_iterations=2000)"
   ]
  },
  {
   "cell_type": "code",
   "execution_count": 24,
   "id": "803d66b3",
   "metadata": {},
   "outputs": [
    {
     "data": {
      "text/plain": [
       "Text(0.5, 1.0, 'Cost VS Iterations for different Learning Rate')"
      ]
     },
     "execution_count": 24,
     "metadata": {},
     "output_type": "execute_result"
    },
    {
     "data": {
      "image/png": "[encoded data removed]",
      "text/plain": [
       "<Figure size 432x288 with 1 Axes>"
      ]
     },
     "metadata": {
      "needs_background": "light"
     },
     "output_type": "display_data"
    }
   ],
   "source": [
    "plt.plot(alpha_df_1['iterations'],alpha_df_1['cost'],label='alpha=0.01')\n",
    "plt.plot(alpha_df_2['iterations'],alpha_df_2['cost'],label='alpha=0.001')\n",
    "plt.legend()  # Library function used to give label at right top of the graph\n",
    "plt.xlabel('Number of iterations')\n",
    "plt.ylabel('Cost')\n",
    "plt.title('Cost VS Iterations for different Learning Rate')"
   ]
  }
 ],
 "metadata": {
  "kernelspec": {
   "display_name": "Python 3 (ipykernel)",
   "language": "python",
   "name": "python3"
  },
  "language_info": {
   "codemirror_mode": {
    "name": "ipython",
    "version": 3
   },
   "file_extension": ".py",
   "mimetype": "text/x-python",
   "name": "python",
   "nbconvert_exporter": "python",
   "pygments_lexer": "ipython3",
   "version": "3.9.7"
  }
 },
 "nbformat": 4,
 "nbformat_minor": 5
}
